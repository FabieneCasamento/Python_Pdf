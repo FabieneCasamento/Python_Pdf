{
 "cells": [
  {
   "cell_type": "code",
   "execution_count": 5,
   "id": "b2a526ae-c2b4-46af-b823-b8928ad61ab0",
   "metadata": {},
   "outputs": [],
   "source": [
    "\n",
    "import PyPDF2 as pyf\n",
    "#apelidei\n",
    "from pathlib import Path\n",
    "#interagir com dados do meu computador\n",
    "\n",
    "\n",
    "\n",
    "\n",
    "#pyf.PdfFileReader\n",
    "#pyf.PdfFileWriter\n",
    "#pyf.PdfFileMerger\n",
    "nome_arquivo = \"WMO-1045-en.pdf\"\n",
    "\n",
    "arquivo_pdf= pyf.PdfReader(nome_arquivo)"
   ]
  },
  {
   "cell_type": "code",
   "execution_count": 3,
   "id": "e01eae16-7196-4b04-8ce3-80ba1eeae07a",
   "metadata": {},
   "outputs": [],
   "source": [
    "#!pip install PyPDF2"
   ]
  },
  {
   "cell_type": "markdown",
   "id": "d7b496d5-5e4c-4950-b909-8c80983677c5",
   "metadata": {},
   "source": [
    "# Separar arquivos do PDF"
   ]
  },
  {
   "cell_type": "code",
   "execution_count": 9,
   "id": "c4b4d306-e029-4611-991f-82c682c81c19",
   "metadata": {},
   "outputs": [],
   "source": [
    "#Pyf.PdfWriter()\n",
    "paginas =[244,245,246,247,248,249,250]\n",
    "i =1\n",
    "for pagina in arquivo_pdf.pages:\n",
    "    #i+=1\n",
    "    #arquivo_novo = pyf.PdfFileWriter()\n",
    "   # arquivo_novo.addPage(pagina)\n",
    "    arquivo_novo = pyf.PdfWriter()\n",
    "\n",
    "    arquivo_novo.add_page(pagina)\n",
    "        \n",
    "    with Path(f'pagina/Arquivo{i}.pdf').open(mode='wb') as arquivo_final:\n",
    "        arquivo_novo.write(arquivo_final)\n",
    "\n",
    "    #add_page\n",
    "    #salvar o arquivo\n",
    "\n",
    "    i+=1"
   ]
  },
  {
   "cell_type": "markdown",
   "id": "43b4d921-20e1-4553-b1d2-91c121d72dc6",
   "metadata": {},
   "source": [
    "# juntar arquivos do PDF"
   ]
  },
  {
   "cell_type": "code",
   "execution_count": 10,
   "id": "1d8c6f5f-4658-4aa6-a313-47180d0b1157",
   "metadata": {},
   "outputs": [],
   "source": [
    "#Pyf.PdfWriter()\n",
    "#juntar o arquivo\n",
    "paginas =[244,245,246,247,248,249,250]\n",
    "\n",
    "#criar um novo pdf\n",
    "novo_pdf= pyf.PdfWriter()\n",
    "for num_pagina in paginas:\n",
    "    nome_arquivo =f'pagina/Arquivo{num_pagina}.pdf'\n",
    "   # nome_arquivo =f'page/Arquivo{num_pagina}.pdf'\n",
    "    \n",
    "    #ARQUIVO PDF do numero da pagina\n",
    "    arquivo_pdf= pyf.PdfReader(nome_arquivo)\n",
    "    pagina = arquivo_pdf.pages[0]\n",
    "    #unica pagina [0] indice 0, primeira pagina\n",
    "    #pegar o arquivo num_pagina \n",
    "    #adicionar ele no nosso novo_pdf\n",
    "    \n",
    "    #novo_pdf.addPage(pagina)\n",
    "    novo_pdf.add_page(pagina)\n",
    "#salvar o novo_pdf\n",
    "\n",
    "     \n",
    "with Path(f'Consolidadowmo.pdf').open(mode='wb') as arquivo_final:\n",
    "        novo_pdf.write(arquivo_final)"
   ]
  },
  {
   "cell_type": "code",
   "execution_count": null,
   "id": "46cab238-f1d8-46a4-912d-d9501874a86b",
   "metadata": {},
   "outputs": [],
   "source": []
  }
 ],
 "metadata": {
  "kernelspec": {
   "display_name": "Python 3 (ipykernel)",
   "language": "python",
   "name": "python3"
  },
  "language_info": {
   "codemirror_mode": {
    "name": "ipython",
    "version": 3
   },
   "file_extension": ".py",
   "mimetype": "text/x-python",
   "name": "python",
   "nbconvert_exporter": "python",
   "pygments_lexer": "ipython3",
   "version": "3.11.9"
  }
 },
 "nbformat": 4,
 "nbformat_minor": 5
}
